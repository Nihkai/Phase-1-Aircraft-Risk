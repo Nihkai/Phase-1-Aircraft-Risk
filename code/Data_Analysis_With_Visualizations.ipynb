{
 "cells": [
  {
   "cell_type": "markdown",
   "metadata": {},
   "source": [
    "# Phase 1 Project Data Cleaning / EDA"
   ]
  },
  {
   "cell_type": "markdown",
   "metadata": {},
   "source": [
    "## Business Problem"
   ]
  },
  {
   "cell_type": "markdown",
   "metadata": {},
   "source": [
    "This is the problem our project is specifying:\n",
    "\n",
    "`\"Your company is expanding in to new industries to diversify its portfolio. Specifically, they are interested in purchasing and operating airplanes for commercial and private enterprises, but do not know anything about the potential risks of aircraft. You are charged with determining which aircraft are the lowest risk for the company to start this new business endeavor. You must then translate your findings into actionable insights that the head of the new aviation division can use to help decide which aircraft to purchase.\"`\n",
    "\n",
    "In this notebook, we do the following:\n",
    "- Clean the Aviation_Data.csv dataset by:\n",
    "    - Removing irrelevant columns\n",
    "    - Building dictionaries to fill in null values\n",
    "    - Checking for duplicated records\n",
    "    - Dropping irrelevant data\n",
    "    - Removing some null values\n",
    "    - Slicing a subset of the largest plane manufacturers\n",
    "    - Creating a Year column for date filtering\n",
    "- Export the cleaned DataFrame as a new CSV"
   ]
  },
  {
   "cell_type": "markdown",
   "metadata": {},
   "source": [
    "## Importing the Data"
   ]
  },
  {
   "cell_type": "code",
   "execution_count": 1,
   "metadata": {},
   "outputs": [],
   "source": [
    "import pandas as pd\n",
    "import matplotlib.pyplot as plt\n",
    "%matplotlib inline\n",
    "plt.style.use('bmh')"
   ]
  },
  {
   "cell_type": "markdown",
   "metadata": {},
   "source": [
    "We had an import issue that Nick solved by specifying the data type for columns 6, 7, and 28."
   ]
  },
  {
   "cell_type": "code",
   "execution_count": 2,
   "metadata": {},
   "outputs": [],
   "source": [
    "with open('../data/Aviation_Data.csv', encoding='utf8') as f:\n",
    "    dtypes = {'Column6Name': 'str', 'Column7Name': 'str', 'Column28Name': 'str'}\n",
    "    df = pd.read_csv(f, dtype=dtypes, low_memory=False)"
   ]
  },
  {
   "cell_type": "code",
   "execution_count": 3,
   "metadata": {},
   "outputs": [
    {
     "data": {
      "text/html": [
       "<div>\n",
       "<style scoped>\n",
       "    .dataframe tbody tr th:only-of-type {\n",
       "        vertical-align: middle;\n",
       "    }\n",
       "\n",
       "    .dataframe tbody tr th {\n",
       "        vertical-align: top;\n",
       "    }\n",
       "\n",
       "    .dataframe thead th {\n",
       "        text-align: right;\n",
       "    }\n",
       "</style>\n",
       "<table border=\"1\" class=\"dataframe\">\n",
       "  <thead>\n",
       "    <tr style=\"text-align: right;\">\n",
       "      <th></th>\n",
       "      <th>Event.Id</th>\n",
       "      <th>Investigation.Type</th>\n",
       "      <th>Accident.Number</th>\n",
       "      <th>Event.Date</th>\n",
       "      <th>Location</th>\n",
       "      <th>Country</th>\n",
       "      <th>Latitude</th>\n",
       "      <th>Longitude</th>\n",
       "      <th>Airport.Code</th>\n",
       "      <th>Airport.Name</th>\n",
       "      <th>...</th>\n",
       "      <th>Purpose.of.flight</th>\n",
       "      <th>Air.carrier</th>\n",
       "      <th>Total.Fatal.Injuries</th>\n",
       "      <th>Total.Serious.Injuries</th>\n",
       "      <th>Total.Minor.Injuries</th>\n",
       "      <th>Total.Uninjured</th>\n",
       "      <th>Weather.Condition</th>\n",
       "      <th>Broad.phase.of.flight</th>\n",
       "      <th>Report.Status</th>\n",
       "      <th>Publication.Date</th>\n",
       "    </tr>\n",
       "  </thead>\n",
       "  <tbody>\n",
       "    <tr>\n",
       "      <th>0</th>\n",
       "      <td>20001218X45444</td>\n",
       "      <td>Accident</td>\n",
       "      <td>SEA87LA080</td>\n",
       "      <td>1948-10-24</td>\n",
       "      <td>MOOSE CREEK, ID</td>\n",
       "      <td>United States</td>\n",
       "      <td>NaN</td>\n",
       "      <td>NaN</td>\n",
       "      <td>NaN</td>\n",
       "      <td>NaN</td>\n",
       "      <td>...</td>\n",
       "      <td>Personal</td>\n",
       "      <td>NaN</td>\n",
       "      <td>2.0</td>\n",
       "      <td>0.0</td>\n",
       "      <td>0.0</td>\n",
       "      <td>0.0</td>\n",
       "      <td>UNK</td>\n",
       "      <td>Cruise</td>\n",
       "      <td>Probable Cause</td>\n",
       "      <td>NaN</td>\n",
       "    </tr>\n",
       "    <tr>\n",
       "      <th>1</th>\n",
       "      <td>20001218X45447</td>\n",
       "      <td>Accident</td>\n",
       "      <td>LAX94LA336</td>\n",
       "      <td>1962-07-19</td>\n",
       "      <td>BRIDGEPORT, CA</td>\n",
       "      <td>United States</td>\n",
       "      <td>NaN</td>\n",
       "      <td>NaN</td>\n",
       "      <td>NaN</td>\n",
       "      <td>NaN</td>\n",
       "      <td>...</td>\n",
       "      <td>Personal</td>\n",
       "      <td>NaN</td>\n",
       "      <td>4.0</td>\n",
       "      <td>0.0</td>\n",
       "      <td>0.0</td>\n",
       "      <td>0.0</td>\n",
       "      <td>UNK</td>\n",
       "      <td>Unknown</td>\n",
       "      <td>Probable Cause</td>\n",
       "      <td>19-09-1996</td>\n",
       "    </tr>\n",
       "  </tbody>\n",
       "</table>\n",
       "<p>2 rows × 31 columns</p>\n",
       "</div>"
      ],
      "text/plain": [
       "         Event.Id Investigation.Type Accident.Number  Event.Date  \\\n",
       "0  20001218X45444           Accident      SEA87LA080  1948-10-24   \n",
       "1  20001218X45447           Accident      LAX94LA336  1962-07-19   \n",
       "\n",
       "          Location        Country Latitude Longitude Airport.Code  \\\n",
       "0  MOOSE CREEK, ID  United States      NaN       NaN          NaN   \n",
       "1   BRIDGEPORT, CA  United States      NaN       NaN          NaN   \n",
       "\n",
       "  Airport.Name  ... Purpose.of.flight Air.carrier Total.Fatal.Injuries  \\\n",
       "0          NaN  ...          Personal         NaN                  2.0   \n",
       "1          NaN  ...          Personal         NaN                  4.0   \n",
       "\n",
       "  Total.Serious.Injuries Total.Minor.Injuries Total.Uninjured  \\\n",
       "0                    0.0                  0.0             0.0   \n",
       "1                    0.0                  0.0             0.0   \n",
       "\n",
       "  Weather.Condition  Broad.phase.of.flight   Report.Status Publication.Date  \n",
       "0               UNK                 Cruise  Probable Cause              NaN  \n",
       "1               UNK                Unknown  Probable Cause       19-09-1996  \n",
       "\n",
       "[2 rows x 31 columns]"
      ]
     },
     "execution_count": 3,
     "metadata": {},
     "output_type": "execute_result"
    }
   ],
   "source": [
    "df.head(2)"
   ]
  },
  {
   "cell_type": "code",
   "execution_count": 4,
   "metadata": {},
   "outputs": [
    {
     "name": "stdout",
     "output_type": "stream",
     "text": [
      "<class 'pandas.core.frame.DataFrame'>\n",
      "RangeIndex: 90348 entries, 0 to 90347\n",
      "Data columns (total 31 columns):\n",
      " #   Column                  Non-Null Count  Dtype  \n",
      "---  ------                  --------------  -----  \n",
      " 0   Event.Id                88889 non-null  object \n",
      " 1   Investigation.Type      90348 non-null  object \n",
      " 2   Accident.Number         88889 non-null  object \n",
      " 3   Event.Date              88889 non-null  object \n",
      " 4   Location                88837 non-null  object \n",
      " 5   Country                 88663 non-null  object \n",
      " 6   Latitude                34382 non-null  object \n",
      " 7   Longitude               34373 non-null  object \n",
      " 8   Airport.Code            50249 non-null  object \n",
      " 9   Airport.Name            52790 non-null  object \n",
      " 10  Injury.Severity         87889 non-null  object \n",
      " 11  Aircraft.damage         85695 non-null  object \n",
      " 12  Aircraft.Category       32287 non-null  object \n",
      " 13  Registration.Number     87572 non-null  object \n",
      " 14  Make                    88826 non-null  object \n",
      " 15  Model                   88797 non-null  object \n",
      " 16  Amateur.Built           88787 non-null  object \n",
      " 17  Number.of.Engines       82805 non-null  float64\n",
      " 18  Engine.Type             81812 non-null  object \n",
      " 19  FAR.Description         32023 non-null  object \n",
      " 20  Schedule                12582 non-null  object \n",
      " 21  Purpose.of.flight       82697 non-null  object \n",
      " 22  Air.carrier             16648 non-null  object \n",
      " 23  Total.Fatal.Injuries    77488 non-null  float64\n",
      " 24  Total.Serious.Injuries  76379 non-null  float64\n",
      " 25  Total.Minor.Injuries    76956 non-null  float64\n",
      " 26  Total.Uninjured         82977 non-null  float64\n",
      " 27  Weather.Condition       84397 non-null  object \n",
      " 28  Broad.phase.of.flight   61724 non-null  object \n",
      " 29  Report.Status           82508 non-null  object \n",
      " 30  Publication.Date        73659 non-null  object \n",
      "dtypes: float64(5), object(26)\n",
      "memory usage: 21.4+ MB\n"
     ]
    }
   ],
   "source": [
    "df.info()"
   ]
  },
  {
   "cell_type": "markdown",
   "metadata": {},
   "source": [
    "Okay, so we've got 90,348 records and 31 columns. Let's clean this up a bit."
   ]
  },
  {
   "cell_type": "markdown",
   "metadata": {},
   "source": [
    "## Cleaning the Data"
   ]
  },
  {
   "cell_type": "markdown",
   "metadata": {},
   "source": [
    "#### Keeping / Removing Columns for These Reasons"
   ]
  },
  {
   "cell_type": "markdown",
   "metadata": {},
   "source": [
    "Keeping\n",
    "- Event ID and Accident Number: Keeping for now to screen for duplicates\n",
    "- Event.Date: Might be useful\n",
    "- Location and Country: Might be useful\n",
    "- Injury Severity, Aircraft Damage: Will be useful\n",
    "- Aircraft Category: Shows many records not involving airplanes, which we can remove later\n",
    "- Make and Model: Need to determine which are the safest\n",
    "- Amateur Built: Can probably use to remove from data. About 8.5k out of 90 are listed as amateur built\n",
    "- Number of Engines: Will need further investigation. Some show 0 engines, most show one. We would only be looking at 2+ engine planes for enterprise use\n",
    "- Engine Type: Useful\n",
    "- Purpose of Flight: Useful for determining cause of accident\n",
    "- Total Injuries columns: Useful\n",
    "- Weather Conditions: May help determine possible cause\n",
    "- Report Status: May be helpful in filtering\n",
    "\n",
    "Removing\n",
    "- Investigation Type: upon doing a .values_count(), we see it is not useful\n",
    "- Latitude and Longitude: mostly null, also redundant since we have Location (city, state)\n",
    "- Airport.Code and Airport Name: about half null, also irrelevant to determining safety\n",
    "- Registration Number: irrelevant\n",
    "- FAR Description: Stands for Federal Aviation Regulation description, not useful\n",
    "- Schedule: Mostly null, also irrelevant\n",
    "- Air Carrier: Mostly null, also irrelevant\n",
    "- Broad Phase of Flight: Enough null values for a categorical data point that we should exclude\n",
    "- Publication Date: Irrelevant when data was published"
   ]
  },
  {
   "cell_type": "code",
   "execution_count": 5,
   "metadata": {},
   "outputs": [],
   "source": [
    "df.drop(['Investigation.Type','Latitude', 'Longitude', 'Airport.Code', \n",
    "         'Airport.Name', 'Registration.Number', 'FAR.Description', \n",
    "         'Schedule', 'Air.carrier', 'Broad.phase.of.flight', \n",
    "         'Publication.Date'], axis=1, inplace=True)"
   ]
  },
  {
   "cell_type": "code",
   "execution_count": 6,
   "metadata": {
    "scrolled": true
   },
   "outputs": [
    {
     "data": {
      "text/html": [
       "<div>\n",
       "<style scoped>\n",
       "    .dataframe tbody tr th:only-of-type {\n",
       "        vertical-align: middle;\n",
       "    }\n",
       "\n",
       "    .dataframe tbody tr th {\n",
       "        vertical-align: top;\n",
       "    }\n",
       "\n",
       "    .dataframe thead th {\n",
       "        text-align: right;\n",
       "    }\n",
       "</style>\n",
       "<table border=\"1\" class=\"dataframe\">\n",
       "  <thead>\n",
       "    <tr style=\"text-align: right;\">\n",
       "      <th></th>\n",
       "      <th>Event.Id</th>\n",
       "      <th>Accident.Number</th>\n",
       "      <th>Event.Date</th>\n",
       "      <th>Location</th>\n",
       "      <th>Country</th>\n",
       "      <th>Injury.Severity</th>\n",
       "      <th>Aircraft.damage</th>\n",
       "      <th>Aircraft.Category</th>\n",
       "      <th>Make</th>\n",
       "      <th>Model</th>\n",
       "      <th>Amateur.Built</th>\n",
       "      <th>Number.of.Engines</th>\n",
       "      <th>Engine.Type</th>\n",
       "      <th>Purpose.of.flight</th>\n",
       "      <th>Total.Fatal.Injuries</th>\n",
       "      <th>Total.Serious.Injuries</th>\n",
       "      <th>Total.Minor.Injuries</th>\n",
       "      <th>Total.Uninjured</th>\n",
       "      <th>Weather.Condition</th>\n",
       "      <th>Report.Status</th>\n",
       "    </tr>\n",
       "  </thead>\n",
       "  <tbody>\n",
       "    <tr>\n",
       "      <th>0</th>\n",
       "      <td>20001218X45444</td>\n",
       "      <td>SEA87LA080</td>\n",
       "      <td>1948-10-24</td>\n",
       "      <td>MOOSE CREEK, ID</td>\n",
       "      <td>United States</td>\n",
       "      <td>Fatal(2)</td>\n",
       "      <td>Destroyed</td>\n",
       "      <td>NaN</td>\n",
       "      <td>Stinson</td>\n",
       "      <td>108-3</td>\n",
       "      <td>No</td>\n",
       "      <td>1.0</td>\n",
       "      <td>Reciprocating</td>\n",
       "      <td>Personal</td>\n",
       "      <td>2.0</td>\n",
       "      <td>0.0</td>\n",
       "      <td>0.0</td>\n",
       "      <td>0.0</td>\n",
       "      <td>UNK</td>\n",
       "      <td>Probable Cause</td>\n",
       "    </tr>\n",
       "    <tr>\n",
       "      <th>1</th>\n",
       "      <td>20001218X45447</td>\n",
       "      <td>LAX94LA336</td>\n",
       "      <td>1962-07-19</td>\n",
       "      <td>BRIDGEPORT, CA</td>\n",
       "      <td>United States</td>\n",
       "      <td>Fatal(4)</td>\n",
       "      <td>Destroyed</td>\n",
       "      <td>NaN</td>\n",
       "      <td>Piper</td>\n",
       "      <td>PA24-180</td>\n",
       "      <td>No</td>\n",
       "      <td>1.0</td>\n",
       "      <td>Reciprocating</td>\n",
       "      <td>Personal</td>\n",
       "      <td>4.0</td>\n",
       "      <td>0.0</td>\n",
       "      <td>0.0</td>\n",
       "      <td>0.0</td>\n",
       "      <td>UNK</td>\n",
       "      <td>Probable Cause</td>\n",
       "    </tr>\n",
       "  </tbody>\n",
       "</table>\n",
       "</div>"
      ],
      "text/plain": [
       "         Event.Id Accident.Number  Event.Date         Location        Country  \\\n",
       "0  20001218X45444      SEA87LA080  1948-10-24  MOOSE CREEK, ID  United States   \n",
       "1  20001218X45447      LAX94LA336  1962-07-19   BRIDGEPORT, CA  United States   \n",
       "\n",
       "  Injury.Severity Aircraft.damage Aircraft.Category     Make     Model  \\\n",
       "0        Fatal(2)       Destroyed               NaN  Stinson     108-3   \n",
       "1        Fatal(4)       Destroyed               NaN    Piper  PA24-180   \n",
       "\n",
       "  Amateur.Built  Number.of.Engines    Engine.Type Purpose.of.flight  \\\n",
       "0            No                1.0  Reciprocating          Personal   \n",
       "1            No                1.0  Reciprocating          Personal   \n",
       "\n",
       "   Total.Fatal.Injuries  Total.Serious.Injuries  Total.Minor.Injuries  \\\n",
       "0                   2.0                     0.0                   0.0   \n",
       "1                   4.0                     0.0                   0.0   \n",
       "\n",
       "   Total.Uninjured Weather.Condition   Report.Status  \n",
       "0              0.0               UNK  Probable Cause  \n",
       "1              0.0               UNK  Probable Cause  "
      ]
     },
     "execution_count": 6,
     "metadata": {},
     "output_type": "execute_result"
    }
   ],
   "source": [
    "df.head(2)"
   ]
  },
  {
   "cell_type": "markdown",
   "metadata": {},
   "source": [
    "####  Drop Null Event ID's"
   ]
  },
  {
   "cell_type": "code",
   "execution_count": 7,
   "metadata": {},
   "outputs": [
    {
     "name": "stdout",
     "output_type": "stream",
     "text": [
      "<class 'pandas.core.frame.DataFrame'>\n",
      "Int64Index: 1459 entries, 64030 to 90097\n",
      "Data columns (total 20 columns):\n",
      " #   Column                  Non-Null Count  Dtype  \n",
      "---  ------                  --------------  -----  \n",
      " 0   Event.Id                0 non-null      object \n",
      " 1   Accident.Number         0 non-null      object \n",
      " 2   Event.Date              0 non-null      object \n",
      " 3   Location                0 non-null      object \n",
      " 4   Country                 0 non-null      object \n",
      " 5   Injury.Severity         0 non-null      object \n",
      " 6   Aircraft.damage         0 non-null      object \n",
      " 7   Aircraft.Category       0 non-null      object \n",
      " 8   Make                    0 non-null      object \n",
      " 9   Model                   0 non-null      object \n",
      " 10  Amateur.Built           0 non-null      object \n",
      " 11  Number.of.Engines       0 non-null      float64\n",
      " 12  Engine.Type             0 non-null      object \n",
      " 13  Purpose.of.flight       0 non-null      object \n",
      " 14  Total.Fatal.Injuries    0 non-null      float64\n",
      " 15  Total.Serious.Injuries  0 non-null      float64\n",
      " 16  Total.Minor.Injuries    0 non-null      float64\n",
      " 17  Total.Uninjured         0 non-null      float64\n",
      " 18  Weather.Condition       0 non-null      object \n",
      " 19  Report.Status           0 non-null      object \n",
      "dtypes: float64(5), object(15)\n",
      "memory usage: 239.4+ KB\n"
     ]
    }
   ],
   "source": [
    "df[df['Event.Id'].isna()].info()"
   ]
  },
  {
   "cell_type": "markdown",
   "metadata": {},
   "source": [
    "We're getting all null values in rows where Event ID is null. Let's drop those records."
   ]
  },
  {
   "cell_type": "code",
   "execution_count": 8,
   "metadata": {},
   "outputs": [],
   "source": [
    "df.dropna(subset=['Event.Id'], inplace=True)"
   ]
  },
  {
   "cell_type": "markdown",
   "metadata": {},
   "source": [
    "####  Fill in Aircraft Category, Engine Counts, and Types"
   ]
  },
  {
   "cell_type": "markdown",
   "metadata": {},
   "source": [
    "Before removing any non-null records, I'd like to try to fill in some null values for Aircraft Category, Engine Count, and Engine Type by making a dictionaries of existing data by Model. \n",
    "\n",
    "We know our company is only looking at airplanes, so we want to exclude any records for gliders, blimps, or helicopters. \n",
    "\n",
    "We also might want to look at number of crashes by Engine Count or Engine Type, so the more data we have there, the better.\n",
    "\n",
    "Let's see if this dictionary idea works."
   ]
  },
  {
   "cell_type": "code",
   "execution_count": 9,
   "metadata": {},
   "outputs": [
    {
     "data": {
      "text/plain": [
       "32287"
      ]
     },
     "execution_count": 9,
     "metadata": {},
     "output_type": "execute_result"
    }
   ],
   "source": [
    "# Starting number for testing\n",
    "\n",
    "df['Aircraft.Category'].count()"
   ]
  },
  {
   "cell_type": "code",
   "execution_count": 10,
   "metadata": {},
   "outputs": [],
   "source": [
    "# Creating a dictionary using Model as keys and Aircraft Category (non-null) as values\n",
    "\n",
    "engine_count_dict = df[(df['Aircraft.Category'].isna() == \n",
    "                        False)].set_index('Model')['Aircraft.Category'].to_dict()"
   ]
  },
  {
   "cell_type": "code",
   "execution_count": 11,
   "metadata": {},
   "outputs": [],
   "source": [
    "# Using this dictionary to fill in some null values in Aircraft Category\n",
    "\n",
    "df['Aircraft.Category'] = df['Aircraft.Category'].fillna(df['Model'].map(engine_count_dict))"
   ]
  },
  {
   "cell_type": "code",
   "execution_count": 12,
   "metadata": {},
   "outputs": [
    {
     "data": {
      "text/plain": [
       "80532"
      ]
     },
     "execution_count": 12,
     "metadata": {},
     "output_type": "execute_result"
    }
   ],
   "source": [
    "# Ending number\n",
    "\n",
    "df['Aircraft.Category'].count()"
   ]
  },
  {
   "cell_type": "markdown",
   "metadata": {},
   "source": [
    "Got another 48,000! Let's try for Engine Count."
   ]
  },
  {
   "cell_type": "code",
   "execution_count": 13,
   "metadata": {},
   "outputs": [
    {
     "data": {
      "text/plain": [
       "82805"
      ]
     },
     "execution_count": 13,
     "metadata": {},
     "output_type": "execute_result"
    }
   ],
   "source": [
    "# Starting number\n",
    "\n",
    "df['Number.of.Engines'].count()"
   ]
  },
  {
   "cell_type": "code",
   "execution_count": 14,
   "metadata": {},
   "outputs": [
    {
     "data": {
      "text/plain": [
       "87803"
      ]
     },
     "execution_count": 14,
     "metadata": {},
     "output_type": "execute_result"
    }
   ],
   "source": [
    "# {Model: Engine Count}, then use to fill in nulls\n",
    "\n",
    "engine_count_dict = df[(df['Number.of.Engines'].isna() == \n",
    "                        False)].set_index('Model')['Number.of.Engines'].to_dict()\n",
    "\n",
    "df['Number.of.Engines'] = df['Number.of.Engines'].fillna(df['Model'].map(engine_count_dict))\n",
    "\n",
    "df['Number.of.Engines'].count()"
   ]
  },
  {
   "cell_type": "markdown",
   "metadata": {},
   "source": [
    "Got another 5,000! Now let's do this for Engine Type."
   ]
  },
  {
   "cell_type": "code",
   "execution_count": 15,
   "metadata": {},
   "outputs": [
    {
     "data": {
      "text/plain": [
       "81812"
      ]
     },
     "execution_count": 15,
     "metadata": {},
     "output_type": "execute_result"
    }
   ],
   "source": [
    "# Starting number\n",
    "\n",
    "df['Engine.Type'].count()"
   ]
  },
  {
   "cell_type": "code",
   "execution_count": 16,
   "metadata": {},
   "outputs": [
    {
     "data": {
      "text/plain": [
       "87703"
      ]
     },
     "execution_count": 16,
     "metadata": {},
     "output_type": "execute_result"
    }
   ],
   "source": [
    "# {Model: Engine Type}, then use to fill in nulls\n",
    "\n",
    "engine_type_dict = df[(df['Engine.Type'].isna() == \n",
    "                        False)].set_index('Model')['Engine.Type'].to_dict()\n",
    "\n",
    "df['Engine.Type'] = df['Engine.Type'].fillna(df['Model'].map(engine_type_dict))\n",
    "\n",
    "df['Engine.Type'].count()"
   ]
  },
  {
   "cell_type": "markdown",
   "metadata": {},
   "source": [
    "Got another 6,000!"
   ]
  },
  {
   "cell_type": "markdown",
   "metadata": {},
   "source": [
    "####  Drop any non-airplane records"
   ]
  },
  {
   "cell_type": "markdown",
   "metadata": {},
   "source": [
    "Time to get the scalpel!\n",
    "\n",
    "Let's look at Aircraft Category and exclude any non-airplane records."
   ]
  },
  {
   "cell_type": "code",
   "execution_count": 17,
   "metadata": {},
   "outputs": [
    {
     "data": {
      "text/html": [
       "<div>\n",
       "<style scoped>\n",
       "    .dataframe tbody tr th:only-of-type {\n",
       "        vertical-align: middle;\n",
       "    }\n",
       "\n",
       "    .dataframe tbody tr th {\n",
       "        vertical-align: top;\n",
       "    }\n",
       "\n",
       "    .dataframe thead th {\n",
       "        text-align: right;\n",
       "    }\n",
       "</style>\n",
       "<table border=\"1\" class=\"dataframe\">\n",
       "  <thead>\n",
       "    <tr style=\"text-align: right;\">\n",
       "      <th></th>\n",
       "      <th>Event.Id</th>\n",
       "      <th>Accident.Number</th>\n",
       "      <th>Event.Date</th>\n",
       "      <th>Location</th>\n",
       "      <th>Country</th>\n",
       "      <th>Injury.Severity</th>\n",
       "      <th>Aircraft.damage</th>\n",
       "      <th>Aircraft.Category</th>\n",
       "      <th>Make</th>\n",
       "      <th>Model</th>\n",
       "      <th>Amateur.Built</th>\n",
       "      <th>Number.of.Engines</th>\n",
       "      <th>Engine.Type</th>\n",
       "      <th>Purpose.of.flight</th>\n",
       "      <th>Total.Fatal.Injuries</th>\n",
       "      <th>Total.Serious.Injuries</th>\n",
       "      <th>Total.Minor.Injuries</th>\n",
       "      <th>Total.Uninjured</th>\n",
       "      <th>Weather.Condition</th>\n",
       "      <th>Report.Status</th>\n",
       "    </tr>\n",
       "  </thead>\n",
       "  <tbody>\n",
       "    <tr>\n",
       "      <th>16</th>\n",
       "      <td>20020917X01962</td>\n",
       "      <td>DEN82DTM08</td>\n",
       "      <td>1982-01-02</td>\n",
       "      <td>MIDWAY, UT</td>\n",
       "      <td>United States</td>\n",
       "      <td>Non-Fatal</td>\n",
       "      <td>Destroyed</td>\n",
       "      <td>Helicopter</td>\n",
       "      <td>Enstrom</td>\n",
       "      <td>280C</td>\n",
       "      <td>No</td>\n",
       "      <td>1.0</td>\n",
       "      <td>Reciprocating</td>\n",
       "      <td>Personal</td>\n",
       "      <td>0.0</td>\n",
       "      <td>0.0</td>\n",
       "      <td>0.0</td>\n",
       "      <td>1.0</td>\n",
       "      <td>IMC</td>\n",
       "      <td>Probable Cause</td>\n",
       "    </tr>\n",
       "    <tr>\n",
       "      <th>19</th>\n",
       "      <td>20020917X02339</td>\n",
       "      <td>MIA82DA028</td>\n",
       "      <td>1982-01-02</td>\n",
       "      <td>MIAMI, FL</td>\n",
       "      <td>United States</td>\n",
       "      <td>Non-Fatal</td>\n",
       "      <td>Substantial</td>\n",
       "      <td>Helicopter</td>\n",
       "      <td>Smith</td>\n",
       "      <td>WCS-222 (BELL 47G)</td>\n",
       "      <td>No</td>\n",
       "      <td>1.0</td>\n",
       "      <td>Reciprocating</td>\n",
       "      <td>Personal</td>\n",
       "      <td>0.0</td>\n",
       "      <td>0.0</td>\n",
       "      <td>0.0</td>\n",
       "      <td>2.0</td>\n",
       "      <td>VMC</td>\n",
       "      <td>Probable Cause</td>\n",
       "    </tr>\n",
       "    <tr>\n",
       "      <th>22</th>\n",
       "      <td>20020917X01657</td>\n",
       "      <td>ATL82DA027</td>\n",
       "      <td>1982-01-02</td>\n",
       "      <td>CHAMBLEE, GA</td>\n",
       "      <td>United States</td>\n",
       "      <td>Non-Fatal</td>\n",
       "      <td>Substantial</td>\n",
       "      <td>Helicopter</td>\n",
       "      <td>Bell</td>\n",
       "      <td>206L-1</td>\n",
       "      <td>No</td>\n",
       "      <td>1.0</td>\n",
       "      <td>Turbo Shaft</td>\n",
       "      <td>Unknown</td>\n",
       "      <td>0.0</td>\n",
       "      <td>0.0</td>\n",
       "      <td>0.0</td>\n",
       "      <td>1.0</td>\n",
       "      <td>VMC</td>\n",
       "      <td>Probable Cause</td>\n",
       "    </tr>\n",
       "    <tr>\n",
       "      <th>46</th>\n",
       "      <td>20020917X02157</td>\n",
       "      <td>LAX82DA039</td>\n",
       "      <td>1982-01-06</td>\n",
       "      <td>MAMMOTH LAKES, CA</td>\n",
       "      <td>United States</td>\n",
       "      <td>Non-Fatal</td>\n",
       "      <td>Substantial</td>\n",
       "      <td>Helicopter</td>\n",
       "      <td>Aerospatiale</td>\n",
       "      <td>SA-316B</td>\n",
       "      <td>No</td>\n",
       "      <td>1.0</td>\n",
       "      <td>Turbo Shaft</td>\n",
       "      <td>Business</td>\n",
       "      <td>0.0</td>\n",
       "      <td>0.0</td>\n",
       "      <td>0.0</td>\n",
       "      <td>6.0</td>\n",
       "      <td>VMC</td>\n",
       "      <td>Probable Cause</td>\n",
       "    </tr>\n",
       "    <tr>\n",
       "      <th>62</th>\n",
       "      <td>20020917X02247</td>\n",
       "      <td>LAX82DVG13</td>\n",
       "      <td>1982-01-09</td>\n",
       "      <td>CALISTOGA, CA</td>\n",
       "      <td>United States</td>\n",
       "      <td>Non-Fatal</td>\n",
       "      <td>Substantial</td>\n",
       "      <td>Glider</td>\n",
       "      <td>Schleicher</td>\n",
       "      <td>ASW 20</td>\n",
       "      <td>No</td>\n",
       "      <td>0.0</td>\n",
       "      <td>Unknown</td>\n",
       "      <td>Personal</td>\n",
       "      <td>0.0</td>\n",
       "      <td>0.0</td>\n",
       "      <td>0.0</td>\n",
       "      <td>1.0</td>\n",
       "      <td>VMC</td>\n",
       "      <td>Probable Cause</td>\n",
       "    </tr>\n",
       "  </tbody>\n",
       "</table>\n",
       "</div>"
      ],
      "text/plain": [
       "          Event.Id Accident.Number  Event.Date           Location  \\\n",
       "16  20020917X01962      DEN82DTM08  1982-01-02         MIDWAY, UT   \n",
       "19  20020917X02339      MIA82DA028  1982-01-02          MIAMI, FL   \n",
       "22  20020917X01657      ATL82DA027  1982-01-02       CHAMBLEE, GA   \n",
       "46  20020917X02157      LAX82DA039  1982-01-06  MAMMOTH LAKES, CA   \n",
       "62  20020917X02247      LAX82DVG13  1982-01-09      CALISTOGA, CA   \n",
       "\n",
       "          Country Injury.Severity Aircraft.damage Aircraft.Category  \\\n",
       "16  United States       Non-Fatal       Destroyed        Helicopter   \n",
       "19  United States       Non-Fatal     Substantial        Helicopter   \n",
       "22  United States       Non-Fatal     Substantial        Helicopter   \n",
       "46  United States       Non-Fatal     Substantial        Helicopter   \n",
       "62  United States       Non-Fatal     Substantial            Glider   \n",
       "\n",
       "            Make               Model Amateur.Built  Number.of.Engines  \\\n",
       "16       Enstrom                280C            No                1.0   \n",
       "19         Smith  WCS-222 (BELL 47G)            No                1.0   \n",
       "22          Bell              206L-1            No                1.0   \n",
       "46  Aerospatiale             SA-316B            No                1.0   \n",
       "62    Schleicher              ASW 20            No                0.0   \n",
       "\n",
       "      Engine.Type Purpose.of.flight  Total.Fatal.Injuries  \\\n",
       "16  Reciprocating          Personal                   0.0   \n",
       "19  Reciprocating          Personal                   0.0   \n",
       "22    Turbo Shaft           Unknown                   0.0   \n",
       "46    Turbo Shaft          Business                   0.0   \n",
       "62        Unknown          Personal                   0.0   \n",
       "\n",
       "    Total.Serious.Injuries  Total.Minor.Injuries  Total.Uninjured  \\\n",
       "16                     0.0                   0.0              1.0   \n",
       "19                     0.0                   0.0              2.0   \n",
       "22                     0.0                   0.0              1.0   \n",
       "46                     0.0                   0.0              6.0   \n",
       "62                     0.0                   0.0              1.0   \n",
       "\n",
       "   Weather.Condition   Report.Status  \n",
       "16               IMC  Probable Cause  \n",
       "19               VMC  Probable Cause  \n",
       "22               VMC  Probable Cause  \n",
       "46               VMC  Probable Cause  \n",
       "62               VMC  Probable Cause  "
      ]
     },
     "execution_count": 17,
     "metadata": {},
     "output_type": "execute_result"
    }
   ],
   "source": [
    "# These are the records we need to drop, making sure not to drop null values that might contain plane records.\n",
    "\n",
    "df[(df['Aircraft.Category'] != 'Airplane') & (df['Aircraft.Category'].isna() == False)].head()"
   ]
  },
  {
   "cell_type": "code",
   "execution_count": 18,
   "metadata": {},
   "outputs": [],
   "source": [
    "# Get their indexes and drop\n",
    "\n",
    "nonplane_indexes = df[(df['Aircraft.Category'] != 'Airplane') \n",
    "                      & (df['Aircraft.Category'].isna() == False)].index\n",
    "\n",
    "df.drop(index=nonplane_indexes, inplace=True)"
   ]
  },
  {
   "cell_type": "code",
   "execution_count": 19,
   "metadata": {},
   "outputs": [],
   "source": [
    "# Now let's drop that column\n",
    "\n",
    "df.drop(['Aircraft.Category'], axis=1, inplace=True)"
   ]
  },
  {
   "cell_type": "markdown",
   "metadata": {},
   "source": [
    "####  Drop Engine Counts Below 2"
   ]
  },
  {
   "cell_type": "markdown",
   "metadata": {},
   "source": [
    "Let's look further into Engine Counts. We can probably drop all records for single engine aircraft, as our company probably will not be using prop planes. But first - what's going on with the 0 engines?"
   ]
  },
  {
   "cell_type": "code",
   "execution_count": 20,
   "metadata": {},
   "outputs": [
    {
     "data": {
      "text/plain": [
       "1.0    64236\n",
       "2.0    12379\n",
       "3.0      561\n",
       "0.0      536\n",
       "4.0      529\n",
       "6.0        1\n",
       "8.0        1\n",
       "Name: Number.of.Engines, dtype: int64"
      ]
     },
     "execution_count": 20,
     "metadata": {},
     "output_type": "execute_result"
    }
   ],
   "source": [
    "df['Number.of.Engines'].value_counts()"
   ]
  },
  {
   "cell_type": "code",
   "execution_count": 21,
   "metadata": {},
   "outputs": [
    {
     "data": {
      "text/html": [
       "<div>\n",
       "<style scoped>\n",
       "    .dataframe tbody tr th:only-of-type {\n",
       "        vertical-align: middle;\n",
       "    }\n",
       "\n",
       "    .dataframe tbody tr th {\n",
       "        vertical-align: top;\n",
       "    }\n",
       "\n",
       "    .dataframe thead th {\n",
       "        text-align: right;\n",
       "    }\n",
       "</style>\n",
       "<table border=\"1\" class=\"dataframe\">\n",
       "  <thead>\n",
       "    <tr style=\"text-align: right;\">\n",
       "      <th></th>\n",
       "      <th>Event.Id</th>\n",
       "      <th>Accident.Number</th>\n",
       "      <th>Event.Date</th>\n",
       "      <th>Location</th>\n",
       "      <th>Country</th>\n",
       "      <th>Injury.Severity</th>\n",
       "      <th>Aircraft.damage</th>\n",
       "      <th>Make</th>\n",
       "      <th>Model</th>\n",
       "      <th>Amateur.Built</th>\n",
       "      <th>Number.of.Engines</th>\n",
       "      <th>Engine.Type</th>\n",
       "      <th>Purpose.of.flight</th>\n",
       "      <th>Total.Fatal.Injuries</th>\n",
       "      <th>Total.Serious.Injuries</th>\n",
       "      <th>Total.Minor.Injuries</th>\n",
       "      <th>Total.Uninjured</th>\n",
       "      <th>Weather.Condition</th>\n",
       "      <th>Report.Status</th>\n",
       "    </tr>\n",
       "  </thead>\n",
       "  <tbody>\n",
       "    <tr>\n",
       "      <th>1505</th>\n",
       "      <td>20020917X03932</td>\n",
       "      <td>NYC82DA121</td>\n",
       "      <td>1982-06-09</td>\n",
       "      <td>SHREWSBURY, PA</td>\n",
       "      <td>United States</td>\n",
       "      <td>Non-Fatal</td>\n",
       "      <td>Substantial</td>\n",
       "      <td>Scheicher</td>\n",
       "      <td>K8B</td>\n",
       "      <td>No</td>\n",
       "      <td>0.0</td>\n",
       "      <td>Unknown</td>\n",
       "      <td>Personal</td>\n",
       "      <td>0.0</td>\n",
       "      <td>0.0</td>\n",
       "      <td>0.0</td>\n",
       "      <td>1.0</td>\n",
       "      <td>VMC</td>\n",
       "      <td>Probable Cause</td>\n",
       "    </tr>\n",
       "    <tr>\n",
       "      <th>3606</th>\n",
       "      <td>20001214X42064</td>\n",
       "      <td>MKC83LA051</td>\n",
       "      <td>1983-01-02</td>\n",
       "      <td>INDIANOLA, IA</td>\n",
       "      <td>United States</td>\n",
       "      <td>Non-Fatal</td>\n",
       "      <td>NaN</td>\n",
       "      <td>Balloon Works</td>\n",
       "      <td>FIREFLY 7B</td>\n",
       "      <td>No</td>\n",
       "      <td>0.0</td>\n",
       "      <td>Unknown</td>\n",
       "      <td>Personal</td>\n",
       "      <td>0.0</td>\n",
       "      <td>1.0</td>\n",
       "      <td>0.0</td>\n",
       "      <td>1.0</td>\n",
       "      <td>VMC</td>\n",
       "      <td>Probable Cause</td>\n",
       "    </tr>\n",
       "    <tr>\n",
       "      <th>3659</th>\n",
       "      <td>20001214X42066</td>\n",
       "      <td>MKC83LA053</td>\n",
       "      <td>1983-01-08</td>\n",
       "      <td>GREENWOOD, MO</td>\n",
       "      <td>United States</td>\n",
       "      <td>Non-Fatal</td>\n",
       "      <td>Substantial</td>\n",
       "      <td>Balloon Works</td>\n",
       "      <td>FIRE FLY 7-B</td>\n",
       "      <td>No</td>\n",
       "      <td>0.0</td>\n",
       "      <td>Unknown</td>\n",
       "      <td>Instructional</td>\n",
       "      <td>0.0</td>\n",
       "      <td>0.0</td>\n",
       "      <td>0.0</td>\n",
       "      <td>2.0</td>\n",
       "      <td>VMC</td>\n",
       "      <td>Probable Cause</td>\n",
       "    </tr>\n",
       "    <tr>\n",
       "      <th>3951</th>\n",
       "      <td>20001214X42143</td>\n",
       "      <td>ATL83LA123</td>\n",
       "      <td>1983-02-21</td>\n",
       "      <td>WOODBINE, MD</td>\n",
       "      <td>United States</td>\n",
       "      <td>Non-Fatal</td>\n",
       "      <td>Substantial</td>\n",
       "      <td>Scheibe Flugzeugbau</td>\n",
       "      <td>L SPATZ-55</td>\n",
       "      <td>No</td>\n",
       "      <td>0.0</td>\n",
       "      <td>Unknown</td>\n",
       "      <td>Personal</td>\n",
       "      <td>0.0</td>\n",
       "      <td>0.0</td>\n",
       "      <td>0.0</td>\n",
       "      <td>1.0</td>\n",
       "      <td>VMC</td>\n",
       "      <td>Probable Cause</td>\n",
       "    </tr>\n",
       "    <tr>\n",
       "      <th>4093</th>\n",
       "      <td>20001214X42553</td>\n",
       "      <td>NYC83LA076</td>\n",
       "      <td>1983-03-12</td>\n",
       "      <td>BUENA VISTA, PA</td>\n",
       "      <td>United States</td>\n",
       "      <td>Non-Fatal</td>\n",
       "      <td>Substantial</td>\n",
       "      <td>Burkhart Grob</td>\n",
       "      <td>G10Z ASTIR CS</td>\n",
       "      <td>No</td>\n",
       "      <td>0.0</td>\n",
       "      <td>Unknown</td>\n",
       "      <td>Personal</td>\n",
       "      <td>0.0</td>\n",
       "      <td>0.0</td>\n",
       "      <td>0.0</td>\n",
       "      <td>1.0</td>\n",
       "      <td>VMC</td>\n",
       "      <td>Probable Cause</td>\n",
       "    </tr>\n",
       "  </tbody>\n",
       "</table>\n",
       "</div>"
      ],
      "text/plain": [
       "            Event.Id Accident.Number  Event.Date         Location  \\\n",
       "1505  20020917X03932      NYC82DA121  1982-06-09   SHREWSBURY, PA   \n",
       "3606  20001214X42064      MKC83LA051  1983-01-02    INDIANOLA, IA   \n",
       "3659  20001214X42066      MKC83LA053  1983-01-08    GREENWOOD, MO   \n",
       "3951  20001214X42143      ATL83LA123  1983-02-21     WOODBINE, MD   \n",
       "4093  20001214X42553      NYC83LA076  1983-03-12  BUENA VISTA, PA   \n",
       "\n",
       "            Country Injury.Severity Aircraft.damage                 Make  \\\n",
       "1505  United States       Non-Fatal     Substantial            Scheicher   \n",
       "3606  United States       Non-Fatal             NaN        Balloon Works   \n",
       "3659  United States       Non-Fatal     Substantial        Balloon Works   \n",
       "3951  United States       Non-Fatal     Substantial  Scheibe Flugzeugbau   \n",
       "4093  United States       Non-Fatal     Substantial        Burkhart Grob   \n",
       "\n",
       "              Model Amateur.Built  Number.of.Engines Engine.Type  \\\n",
       "1505            K8B            No                0.0     Unknown   \n",
       "3606     FIREFLY 7B            No                0.0     Unknown   \n",
       "3659   FIRE FLY 7-B            No                0.0     Unknown   \n",
       "3951     L SPATZ-55            No                0.0     Unknown   \n",
       "4093  G10Z ASTIR CS            No                0.0     Unknown   \n",
       "\n",
       "     Purpose.of.flight  Total.Fatal.Injuries  Total.Serious.Injuries  \\\n",
       "1505          Personal                   0.0                     0.0   \n",
       "3606          Personal                   0.0                     1.0   \n",
       "3659     Instructional                   0.0                     0.0   \n",
       "3951          Personal                   0.0                     0.0   \n",
       "4093          Personal                   0.0                     0.0   \n",
       "\n",
       "      Total.Minor.Injuries  Total.Uninjured Weather.Condition   Report.Status  \n",
       "1505                   0.0              1.0               VMC  Probable Cause  \n",
       "3606                   0.0              1.0               VMC  Probable Cause  \n",
       "3659                   0.0              2.0               VMC  Probable Cause  \n",
       "3951                   0.0              1.0               VMC  Probable Cause  \n",
       "4093                   0.0              1.0               VMC  Probable Cause  "
      ]
     },
     "execution_count": 21,
     "metadata": {},
     "output_type": "execute_result"
    }
   ],
   "source": [
    "df[df['Number.of.Engines'] == 0].head()"
   ]
  },
  {
   "cell_type": "markdown",
   "metadata": {},
   "source": [
    "With a bit of googling, we find that these are gliders and balloons. Exclude!"
   ]
  },
  {
   "cell_type": "code",
   "execution_count": 22,
   "metadata": {},
   "outputs": [],
   "source": [
    "# Get their indexes and drop\n",
    "\n",
    "engines_1and0_indexes = df[(df['Number.of.Engines'] == 0) \n",
    "                      | (df['Number.of.Engines'] == 1)].index\n",
    "\n",
    "df.drop(index=engines_1and0_indexes, inplace=True)"
   ]
  },
  {
   "cell_type": "markdown",
   "metadata": {},
   "source": [
    "####  Filter for US Data"
   ]
  },
  {
   "cell_type": "markdown",
   "metadata": {},
   "source": [
    "As a brand new business line, we will likely only be operating in the US, so let's only look at US data. If want to move into international flight later, we can expand our analysis at that point. We would also need a totally different data set to do that accurately."
   ]
  },
  {
   "cell_type": "code",
   "execution_count": 23,
   "metadata": {},
   "outputs": [],
   "source": [
    "#Get non-US indexes and drop\n",
    "\n",
    "foreign_indexes = df[df['Country'] != 'United States'].index\n",
    "\n",
    "df.drop(index=foreign_indexes, inplace=True)"
   ]
  },
  {
   "cell_type": "markdown",
   "metadata": {},
   "source": [
    "#### Look for duplicates"
   ]
  },
  {
   "cell_type": "code",
   "execution_count": 24,
   "metadata": {},
   "outputs": [
    {
     "data": {
      "text/html": [
       "<div>\n",
       "<style scoped>\n",
       "    .dataframe tbody tr th:only-of-type {\n",
       "        vertical-align: middle;\n",
       "    }\n",
       "\n",
       "    .dataframe tbody tr th {\n",
       "        vertical-align: top;\n",
       "    }\n",
       "\n",
       "    .dataframe thead th {\n",
       "        text-align: right;\n",
       "    }\n",
       "</style>\n",
       "<table border=\"1\" class=\"dataframe\">\n",
       "  <thead>\n",
       "    <tr style=\"text-align: right;\">\n",
       "      <th></th>\n",
       "      <th>Event.Id</th>\n",
       "      <th>Accident.Number</th>\n",
       "      <th>Event.Date</th>\n",
       "      <th>Location</th>\n",
       "      <th>Country</th>\n",
       "      <th>Injury.Severity</th>\n",
       "      <th>Aircraft.damage</th>\n",
       "      <th>Make</th>\n",
       "      <th>Model</th>\n",
       "      <th>Amateur.Built</th>\n",
       "      <th>Number.of.Engines</th>\n",
       "      <th>Engine.Type</th>\n",
       "      <th>Purpose.of.flight</th>\n",
       "      <th>Total.Fatal.Injuries</th>\n",
       "      <th>Total.Serious.Injuries</th>\n",
       "      <th>Total.Minor.Injuries</th>\n",
       "      <th>Total.Uninjured</th>\n",
       "      <th>Weather.Condition</th>\n",
       "      <th>Report.Status</th>\n",
       "    </tr>\n",
       "  </thead>\n",
       "  <tbody>\n",
       "    <tr>\n",
       "      <th>45704</th>\n",
       "      <td>20001205X00276</td>\n",
       "      <td>CHI99IA100A</td>\n",
       "      <td>1999-03-02</td>\n",
       "      <td>SALINA, KS</td>\n",
       "      <td>United States</td>\n",
       "      <td>Incident</td>\n",
       "      <td>NaN</td>\n",
       "      <td>Mcdonnell Douglas</td>\n",
       "      <td>DC-10</td>\n",
       "      <td>No</td>\n",
       "      <td>3.0</td>\n",
       "      <td>Turbo Jet</td>\n",
       "      <td>Unknown</td>\n",
       "      <td>0.0</td>\n",
       "      <td>0.0</td>\n",
       "      <td>0.0</td>\n",
       "      <td>6.0</td>\n",
       "      <td>VMC</td>\n",
       "      <td>Probable Cause</td>\n",
       "    </tr>\n",
       "    <tr>\n",
       "      <th>45703</th>\n",
       "      <td>20001205X00276</td>\n",
       "      <td>CHI99IA100B</td>\n",
       "      <td>1999-03-02</td>\n",
       "      <td>SALINA, KS</td>\n",
       "      <td>United States</td>\n",
       "      <td>Incident</td>\n",
       "      <td>NaN</td>\n",
       "      <td>Lockheed</td>\n",
       "      <td>L-1O11-385-1-15</td>\n",
       "      <td>No</td>\n",
       "      <td>3.0</td>\n",
       "      <td>Turbo Jet</td>\n",
       "      <td>Unknown</td>\n",
       "      <td>0.0</td>\n",
       "      <td>0.0</td>\n",
       "      <td>0.0</td>\n",
       "      <td>6.0</td>\n",
       "      <td>VMC</td>\n",
       "      <td>Probable Cause</td>\n",
       "    </tr>\n",
       "    <tr>\n",
       "      <th>45716</th>\n",
       "      <td>20001205X00305</td>\n",
       "      <td>DEN99LA047B</td>\n",
       "      <td>1999-03-05</td>\n",
       "      <td>DENVER, CO</td>\n",
       "      <td>United States</td>\n",
       "      <td>Non-Fatal</td>\n",
       "      <td>Minor</td>\n",
       "      <td>Swearingen</td>\n",
       "      <td>SA226TC</td>\n",
       "      <td>No</td>\n",
       "      <td>2.0</td>\n",
       "      <td>Turbo Prop</td>\n",
       "      <td>Unknown</td>\n",
       "      <td>0.0</td>\n",
       "      <td>0.0</td>\n",
       "      <td>0.0</td>\n",
       "      <td>2.0</td>\n",
       "      <td>VMC</td>\n",
       "      <td>Probable Cause</td>\n",
       "    </tr>\n",
       "    <tr>\n",
       "      <th>45719</th>\n",
       "      <td>20001205X00305</td>\n",
       "      <td>DEN99LA047A</td>\n",
       "      <td>1999-03-05</td>\n",
       "      <td>DENVER, CO</td>\n",
       "      <td>United States</td>\n",
       "      <td>Non-Fatal</td>\n",
       "      <td>Substantial</td>\n",
       "      <td>Swearingen</td>\n",
       "      <td>SA226TC</td>\n",
       "      <td>No</td>\n",
       "      <td>2.0</td>\n",
       "      <td>Turbo Prop</td>\n",
       "      <td>Unknown</td>\n",
       "      <td>0.0</td>\n",
       "      <td>0.0</td>\n",
       "      <td>0.0</td>\n",
       "      <td>2.0</td>\n",
       "      <td>VMC</td>\n",
       "      <td>Probable Cause</td>\n",
       "    </tr>\n",
       "    <tr>\n",
       "      <th>34436</th>\n",
       "      <td>20001206X00587</td>\n",
       "      <td>ATL94LA045B</td>\n",
       "      <td>1994-01-27</td>\n",
       "      <td>MEMPHIS, TN</td>\n",
       "      <td>United States</td>\n",
       "      <td>Non-Fatal</td>\n",
       "      <td>Minor</td>\n",
       "      <td>Beech</td>\n",
       "      <td>E18S</td>\n",
       "      <td>No</td>\n",
       "      <td>2.0</td>\n",
       "      <td>Reciprocating</td>\n",
       "      <td>Positioning</td>\n",
       "      <td>0.0</td>\n",
       "      <td>0.0</td>\n",
       "      <td>0.0</td>\n",
       "      <td>2.0</td>\n",
       "      <td>VMC</td>\n",
       "      <td>Probable Cause</td>\n",
       "    </tr>\n",
       "    <tr>\n",
       "      <th>...</th>\n",
       "      <td>...</td>\n",
       "      <td>...</td>\n",
       "      <td>...</td>\n",
       "      <td>...</td>\n",
       "      <td>...</td>\n",
       "      <td>...</td>\n",
       "      <td>...</td>\n",
       "      <td>...</td>\n",
       "      <td>...</td>\n",
       "      <td>...</td>\n",
       "      <td>...</td>\n",
       "      <td>...</td>\n",
       "      <td>...</td>\n",
       "      <td>...</td>\n",
       "      <td>...</td>\n",
       "      <td>...</td>\n",
       "      <td>...</td>\n",
       "      <td>...</td>\n",
       "      <td>...</td>\n",
       "    </tr>\n",
       "    <tr>\n",
       "      <th>89300</th>\n",
       "      <td>20220614105258</td>\n",
       "      <td>DCA22WA130</td>\n",
       "      <td>2022-06-05</td>\n",
       "      <td>Peshawar, OF</td>\n",
       "      <td>United States</td>\n",
       "      <td>NaN</td>\n",
       "      <td>NaN</td>\n",
       "      <td>BOEING</td>\n",
       "      <td>777</td>\n",
       "      <td>No</td>\n",
       "      <td>2.0</td>\n",
       "      <td>Turbo Fan</td>\n",
       "      <td>NaN</td>\n",
       "      <td>0.0</td>\n",
       "      <td>0.0</td>\n",
       "      <td>0.0</td>\n",
       "      <td>0.0</td>\n",
       "      <td>NaN</td>\n",
       "      <td>NaN</td>\n",
       "    </tr>\n",
       "    <tr>\n",
       "      <th>89383</th>\n",
       "      <td>20220623105317</td>\n",
       "      <td>DCA22LA135</td>\n",
       "      <td>2022-06-18</td>\n",
       "      <td>New York, NY</td>\n",
       "      <td>United States</td>\n",
       "      <td>NaN</td>\n",
       "      <td>Minor</td>\n",
       "      <td>AIRBUS</td>\n",
       "      <td>A330</td>\n",
       "      <td>No</td>\n",
       "      <td>2.0</td>\n",
       "      <td>Turbo Fan</td>\n",
       "      <td>NaN</td>\n",
       "      <td>0.0</td>\n",
       "      <td>0.0</td>\n",
       "      <td>0.0</td>\n",
       "      <td>0.0</td>\n",
       "      <td>VMC</td>\n",
       "      <td>NaN</td>\n",
       "    </tr>\n",
       "    <tr>\n",
       "      <th>89384</th>\n",
       "      <td>20220623105317</td>\n",
       "      <td>DCA22LA135</td>\n",
       "      <td>2022-06-18</td>\n",
       "      <td>New York, NY</td>\n",
       "      <td>United States</td>\n",
       "      <td>NaN</td>\n",
       "      <td>Substantial</td>\n",
       "      <td>BOEING</td>\n",
       "      <td>777</td>\n",
       "      <td>No</td>\n",
       "      <td>2.0</td>\n",
       "      <td>Turbo Fan</td>\n",
       "      <td>NaN</td>\n",
       "      <td>0.0</td>\n",
       "      <td>0.0</td>\n",
       "      <td>0.0</td>\n",
       "      <td>0.0</td>\n",
       "      <td>VMC</td>\n",
       "      <td>NaN</td>\n",
       "    </tr>\n",
       "    <tr>\n",
       "      <th>89966</th>\n",
       "      <td>20220915105950</td>\n",
       "      <td>DCA22LA201</td>\n",
       "      <td>2022-09-11</td>\n",
       "      <td>Chicago, IL</td>\n",
       "      <td>United States</td>\n",
       "      <td>NaN</td>\n",
       "      <td>NaN</td>\n",
       "      <td>BOEING</td>\n",
       "      <td>737-823</td>\n",
       "      <td>No</td>\n",
       "      <td>2.0</td>\n",
       "      <td>Turbo Fan</td>\n",
       "      <td>NaN</td>\n",
       "      <td>0.0</td>\n",
       "      <td>0.0</td>\n",
       "      <td>0.0</td>\n",
       "      <td>0.0</td>\n",
       "      <td>NaN</td>\n",
       "      <td>NaN</td>\n",
       "    </tr>\n",
       "    <tr>\n",
       "      <th>89967</th>\n",
       "      <td>20220915105950</td>\n",
       "      <td>DCA22LA201</td>\n",
       "      <td>2022-09-11</td>\n",
       "      <td>Chicago, IL</td>\n",
       "      <td>United States</td>\n",
       "      <td>NaN</td>\n",
       "      <td>NaN</td>\n",
       "      <td>BOEING</td>\n",
       "      <td>737-7H4</td>\n",
       "      <td>No</td>\n",
       "      <td>2.0</td>\n",
       "      <td>Turbo Fan</td>\n",
       "      <td>NaN</td>\n",
       "      <td>0.0</td>\n",
       "      <td>0.0</td>\n",
       "      <td>0.0</td>\n",
       "      <td>0.0</td>\n",
       "      <td>NaN</td>\n",
       "      <td>NaN</td>\n",
       "    </tr>\n",
       "  </tbody>\n",
       "</table>\n",
       "<p>309 rows × 19 columns</p>\n",
       "</div>"
      ],
      "text/plain": [
       "             Event.Id Accident.Number  Event.Date      Location  \\\n",
       "45704  20001205X00276     CHI99IA100A  1999-03-02    SALINA, KS   \n",
       "45703  20001205X00276     CHI99IA100B  1999-03-02    SALINA, KS   \n",
       "45716  20001205X00305     DEN99LA047B  1999-03-05    DENVER, CO   \n",
       "45719  20001205X00305     DEN99LA047A  1999-03-05    DENVER, CO   \n",
       "34436  20001206X00587     ATL94LA045B  1994-01-27   MEMPHIS, TN   \n",
       "...               ...             ...         ...           ...   \n",
       "89300  20220614105258      DCA22WA130  2022-06-05  Peshawar, OF   \n",
       "89383  20220623105317      DCA22LA135  2022-06-18  New York, NY   \n",
       "89384  20220623105317      DCA22LA135  2022-06-18  New York, NY   \n",
       "89966  20220915105950      DCA22LA201  2022-09-11   Chicago, IL   \n",
       "89967  20220915105950      DCA22LA201  2022-09-11   Chicago, IL   \n",
       "\n",
       "             Country Injury.Severity Aircraft.damage               Make  \\\n",
       "45704  United States        Incident             NaN  Mcdonnell Douglas   \n",
       "45703  United States        Incident             NaN           Lockheed   \n",
       "45716  United States       Non-Fatal           Minor         Swearingen   \n",
       "45719  United States       Non-Fatal     Substantial         Swearingen   \n",
       "34436  United States       Non-Fatal           Minor              Beech   \n",
       "...              ...             ...             ...                ...   \n",
       "89300  United States             NaN             NaN             BOEING   \n",
       "89383  United States             NaN           Minor             AIRBUS   \n",
       "89384  United States             NaN     Substantial             BOEING   \n",
       "89966  United States             NaN             NaN             BOEING   \n",
       "89967  United States             NaN             NaN             BOEING   \n",
       "\n",
       "                 Model Amateur.Built  Number.of.Engines    Engine.Type  \\\n",
       "45704            DC-10            No                3.0      Turbo Jet   \n",
       "45703  L-1O11-385-1-15            No                3.0      Turbo Jet   \n",
       "45716          SA226TC            No                2.0     Turbo Prop   \n",
       "45719          SA226TC            No                2.0     Turbo Prop   \n",
       "34436             E18S            No                2.0  Reciprocating   \n",
       "...                ...           ...                ...            ...   \n",
       "89300              777            No                2.0      Turbo Fan   \n",
       "89383             A330            No                2.0      Turbo Fan   \n",
       "89384              777            No                2.0      Turbo Fan   \n",
       "89966          737-823            No                2.0      Turbo Fan   \n",
       "89967          737-7H4            No                2.0      Turbo Fan   \n",
       "\n",
       "      Purpose.of.flight  Total.Fatal.Injuries  Total.Serious.Injuries  \\\n",
       "45704           Unknown                   0.0                     0.0   \n",
       "45703           Unknown                   0.0                     0.0   \n",
       "45716           Unknown                   0.0                     0.0   \n",
       "45719           Unknown                   0.0                     0.0   \n",
       "34436       Positioning                   0.0                     0.0   \n",
       "...                 ...                   ...                     ...   \n",
       "89300               NaN                   0.0                     0.0   \n",
       "89383               NaN                   0.0                     0.0   \n",
       "89384               NaN                   0.0                     0.0   \n",
       "89966               NaN                   0.0                     0.0   \n",
       "89967               NaN                   0.0                     0.0   \n",
       "\n",
       "       Total.Minor.Injuries  Total.Uninjured Weather.Condition   Report.Status  \n",
       "45704                   0.0              6.0               VMC  Probable Cause  \n",
       "45703                   0.0              6.0               VMC  Probable Cause  \n",
       "45716                   0.0              2.0               VMC  Probable Cause  \n",
       "45719                   0.0              2.0               VMC  Probable Cause  \n",
       "34436                   0.0              2.0               VMC  Probable Cause  \n",
       "...                     ...              ...               ...             ...  \n",
       "89300                   0.0              0.0               NaN             NaN  \n",
       "89383                   0.0              0.0               VMC             NaN  \n",
       "89384                   0.0              0.0               VMC             NaN  \n",
       "89966                   0.0              0.0               NaN             NaN  \n",
       "89967                   0.0              0.0               NaN             NaN  \n",
       "\n",
       "[309 rows x 19 columns]"
      ]
     },
     "execution_count": 24,
     "metadata": {},
     "output_type": "execute_result"
    }
   ],
   "source": [
    "# New df containing duplicated Event ID's\n",
    "\n",
    "df_duplicates1 = df[df.duplicated(subset=['Event.Id'], keep=False) == True].sort_values('Event.Id')\n",
    "\n",
    "df_duplicates1"
   ]
  },
  {
   "cell_type": "markdown",
   "metadata": {},
   "source": [
    "We thought we may have found some misentries, but upon further inspection (Google), we realize these double listings are for collisions, so we have 2 different planes involved. Let's leave these in."
   ]
  },
  {
   "cell_type": "markdown",
   "metadata": {},
   "source": [
    "####  Drop Amateur-Built Planes"
   ]
  },
  {
   "cell_type": "markdown",
   "metadata": {},
   "source": [
    "Now let's drop any amateur-built planes. We certainly are not in the market for those. "
   ]
  },
  {
   "cell_type": "code",
   "execution_count": 25,
   "metadata": {},
   "outputs": [],
   "source": [
    "# Get their indexes and drop\n",
    "\n",
    "amateur_indexes = df[(df['Amateur.Built'] == 'Yes')].index\n",
    "\n",
    "df.drop(index=amateur_indexes, inplace=True)"
   ]
  },
  {
   "cell_type": "code",
   "execution_count": 26,
   "metadata": {},
   "outputs": [],
   "source": [
    "# Now let's drop that column\n",
    "\n",
    "df.drop(['Amateur.Built'], axis=1, inplace=True)"
   ]
  },
  {
   "cell_type": "markdown",
   "metadata": {},
   "source": [
    "####  Drop Null Makes / Models"
   ]
  },
  {
   "cell_type": "markdown",
   "metadata": {},
   "source": [
    "Let's drop records where Make or Model are null. We need to know what kinds of planes we are looking at."
   ]
  },
  {
   "cell_type": "code",
   "execution_count": 27,
   "metadata": {},
   "outputs": [],
   "source": [
    "null_make_model_index = df[(df['Make'].isna()) | (df['Model'].isna())].index\n",
    "\n",
    "df.drop(index=null_make_model_index, inplace=True)"
   ]
  },
  {
   "cell_type": "markdown",
   "metadata": {},
   "source": [
    "####  Make Year Column for Date Filtering"
   ]
  },
  {
   "cell_type": "markdown",
   "metadata": {},
   "source": [
    "Since this data goes back to the 60s, we probably want the ability to easily filter out old data. Let's use the date column to create a year column."
   ]
  },
  {
   "cell_type": "code",
   "execution_count": 28,
   "metadata": {},
   "outputs": [],
   "source": [
    "# Convert Date column to datetime, then create Year column\n",
    "\n",
    "df['Event.Date'] = pd.to_datetime(df['Event.Date'])\n",
    "\n",
    "df['Year'] = df['Event.Date'].dt.year"
   ]
  },
  {
   "cell_type": "markdown",
   "metadata": {},
   "source": [
    "#### Clean Up Makes"
   ]
  },
  {
   "cell_type": "markdown",
   "metadata": {},
   "source": [
    "Get the values in the Makes column to match case."
   ]
  },
  {
   "cell_type": "code",
   "execution_count": 29,
   "metadata": {},
   "outputs": [],
   "source": [
    "# Convert Make column to title case\n",
    "\n",
    "df['Make'] = df['Make'].str.title()"
   ]
  },
  {
   "cell_type": "code",
   "execution_count": 30,
   "metadata": {},
   "outputs": [
    {
     "data": {
      "text/plain": [
       "315"
      ]
     },
     "execution_count": 30,
     "metadata": {},
     "output_type": "execute_result"
    }
   ],
   "source": [
    "current_makes_list = df['Make'].value_counts().index.tolist()\n",
    "len(current_makes_list)"
   ]
  },
  {
   "cell_type": "markdown",
   "metadata": {},
   "source": [
    "As you can see, we've got too many Makers to properly analyze. Let's select a group of the largest manufacturers, then filter out the rest. We found this resource (http://www.fi-aeroweb.com/US-Commercial-Aircraft-Fleet.html) to narrow the list down. We also added a few that have been consolidated into larger manufacturers, such as Learjet (bought by Bombardier).\n",
    "\n",
    "`We would like to note here that we would have preferred to use a more rigorous method to narrow down the list of manufacturers. However, finding reliable data on things like market share or successful flights in a given time period without paying for it is impossible.`"
   ]
  },
  {
   "cell_type": "code",
   "execution_count": 31,
   "metadata": {},
   "outputs": [],
   "source": [
    "keep_makes_list = ['Boeing', 'Airbus', 'Bombardier', 'Embraer', \n",
    "                   'Cessna', 'Mcdonnell Douglas', 'ATR', 'Gulfstream', \n",
    "                   'Lockheed', 'Convair', 'Douglas', 'Dassault', \n",
    "                   'CASA', 'Hawker', 'Curtiss', 'Pilatus', 'Beech',\n",
    "                   'Honda', 'Raytheon', 'Learjet']"
   ]
  },
  {
   "cell_type": "markdown",
   "metadata": {},
   "source": [
    "Many of the Make data points in our set have been entered inconsistently. This function will help us make sure we don't lose any points that contain one of our list of manufacturers."
   ]
  },
  {
   "cell_type": "code",
   "execution_count": 32,
   "metadata": {},
   "outputs": [],
   "source": [
    "def planemaker(maker, list):\n",
    "    for manufacturer in list:\n",
    "        if manufacturer in maker:\n",
    "            return manufacturer\n",
    "        else:\n",
    "            continue"
   ]
  },
  {
   "cell_type": "code",
   "execution_count": 33,
   "metadata": {},
   "outputs": [],
   "source": [
    "df['Manufacturer'] = df['Make'].apply(lambda x: planemaker(x, keep_makes_list))"
   ]
  },
  {
   "cell_type": "code",
   "execution_count": 34,
   "metadata": {},
   "outputs": [],
   "source": [
    "# Get indexes and drop\n",
    "\n",
    "manufacturer_null_indexes = df[df['Manufacturer'].isna()].index\n",
    "\n",
    "df.drop(index=manufacturer_null_indexes, inplace=True)"
   ]
  },
  {
   "cell_type": "markdown",
   "metadata": {},
   "source": [
    "####  Get Total Passengers & Filter Out >10"
   ]
  },
  {
   "cell_type": "code",
   "execution_count": 35,
   "metadata": {},
   "outputs": [
    {
     "data": {
      "text/plain": [
       "Cessna               2216\n",
       "Beech                1944\n",
       "Boeing               1119\n",
       "Mcdonnell Douglas     367\n",
       "Douglas               218\n",
       "Airbus                201\n",
       "Embraer               173\n",
       "Learjet               171\n",
       "Bombardier            130\n",
       "Lockheed               92\n",
       "Gulfstream             74\n",
       "Dassault               59\n",
       "Raytheon               56\n",
       "Hawker                 39\n",
       "Convair                35\n",
       "Curtiss                 7\n",
       "Honda                   4\n",
       "Pilatus                 2\n",
       "Name: Manufacturer, dtype: int64"
      ]
     },
     "execution_count": 35,
     "metadata": {},
     "output_type": "execute_result"
    }
   ],
   "source": [
    "df['Manufacturer'].value_counts()"
   ]
  },
  {
   "cell_type": "markdown",
   "metadata": {},
   "source": [
    "Looking at our remaining records by Manufacturer, we see quite a few for Cessna and Beech. We are suspicious that many of these records are for student and hobby pilots, which are irrelevant for our analysis. Let's try to filter out records for planes with less than 10 passengers, which seems like a reasonable cutoff for private business travel.\n",
    "\n",
    "We want to create a column for Total Passengers by summing up all of the Injured and Unijured counts for each flight. However, many of these values are null. Let's look at a few of the null Fatal Injuries and compare them to Injury Severity to check for inconsistencies."
   ]
  },
  {
   "cell_type": "code",
   "execution_count": 36,
   "metadata": {
    "collapsed": true
   },
   "outputs": [
    {
     "data": {
      "text/html": [
       "<div>\n",
       "<style scoped>\n",
       "    .dataframe tbody tr th:only-of-type {\n",
       "        vertical-align: middle;\n",
       "    }\n",
       "\n",
       "    .dataframe tbody tr th {\n",
       "        vertical-align: top;\n",
       "    }\n",
       "\n",
       "    .dataframe thead th {\n",
       "        text-align: right;\n",
       "    }\n",
       "</style>\n",
       "<table border=\"1\" class=\"dataframe\">\n",
       "  <thead>\n",
       "    <tr style=\"text-align: right;\">\n",
       "      <th></th>\n",
       "      <th>Injury.Severity</th>\n",
       "      <th>Total.Fatal.Injuries</th>\n",
       "    </tr>\n",
       "  </thead>\n",
       "  <tbody>\n",
       "    <tr>\n",
       "      <th>5</th>\n",
       "      <td>Non-Fatal</td>\n",
       "      <td>NaN</td>\n",
       "    </tr>\n",
       "    <tr>\n",
       "      <th>89</th>\n",
       "      <td>Non-Fatal</td>\n",
       "      <td>NaN</td>\n",
       "    </tr>\n",
       "    <tr>\n",
       "      <th>351</th>\n",
       "      <td>Incident</td>\n",
       "      <td>NaN</td>\n",
       "    </tr>\n",
       "    <tr>\n",
       "      <th>761</th>\n",
       "      <td>Non-Fatal</td>\n",
       "      <td>NaN</td>\n",
       "    </tr>\n",
       "    <tr>\n",
       "      <th>1164</th>\n",
       "      <td>Incident</td>\n",
       "      <td>NaN</td>\n",
       "    </tr>\n",
       "    <tr>\n",
       "      <th>1834</th>\n",
       "      <td>Incident</td>\n",
       "      <td>NaN</td>\n",
       "    </tr>\n",
       "    <tr>\n",
       "      <th>3515</th>\n",
       "      <td>Non-Fatal</td>\n",
       "      <td>NaN</td>\n",
       "    </tr>\n",
       "    <tr>\n",
       "      <th>3645</th>\n",
       "      <td>Non-Fatal</td>\n",
       "      <td>NaN</td>\n",
       "    </tr>\n",
       "    <tr>\n",
       "      <th>4149</th>\n",
       "      <td>Incident</td>\n",
       "      <td>NaN</td>\n",
       "    </tr>\n",
       "    <tr>\n",
       "      <th>4150</th>\n",
       "      <td>Incident</td>\n",
       "      <td>NaN</td>\n",
       "    </tr>\n",
       "    <tr>\n",
       "      <th>5957</th>\n",
       "      <td>Incident</td>\n",
       "      <td>NaN</td>\n",
       "    </tr>\n",
       "    <tr>\n",
       "      <th>6760</th>\n",
       "      <td>Incident</td>\n",
       "      <td>NaN</td>\n",
       "    </tr>\n",
       "    <tr>\n",
       "      <th>7708</th>\n",
       "      <td>Non-Fatal</td>\n",
       "      <td>NaN</td>\n",
       "    </tr>\n",
       "    <tr>\n",
       "      <th>8025</th>\n",
       "      <td>Non-Fatal</td>\n",
       "      <td>NaN</td>\n",
       "    </tr>\n",
       "    <tr>\n",
       "      <th>8591</th>\n",
       "      <td>Non-Fatal</td>\n",
       "      <td>NaN</td>\n",
       "    </tr>\n",
       "    <tr>\n",
       "      <th>9386</th>\n",
       "      <td>Incident</td>\n",
       "      <td>NaN</td>\n",
       "    </tr>\n",
       "    <tr>\n",
       "      <th>10794</th>\n",
       "      <td>Incident</td>\n",
       "      <td>NaN</td>\n",
       "    </tr>\n",
       "    <tr>\n",
       "      <th>11638</th>\n",
       "      <td>Non-Fatal</td>\n",
       "      <td>NaN</td>\n",
       "    </tr>\n",
       "    <tr>\n",
       "      <th>11689</th>\n",
       "      <td>Non-Fatal</td>\n",
       "      <td>NaN</td>\n",
       "    </tr>\n",
       "    <tr>\n",
       "      <th>12683</th>\n",
       "      <td>Incident</td>\n",
       "      <td>NaN</td>\n",
       "    </tr>\n",
       "    <tr>\n",
       "      <th>14806</th>\n",
       "      <td>Incident</td>\n",
       "      <td>NaN</td>\n",
       "    </tr>\n",
       "    <tr>\n",
       "      <th>15579</th>\n",
       "      <td>Incident</td>\n",
       "      <td>NaN</td>\n",
       "    </tr>\n",
       "    <tr>\n",
       "      <th>16080</th>\n",
       "      <td>Non-Fatal</td>\n",
       "      <td>NaN</td>\n",
       "    </tr>\n",
       "    <tr>\n",
       "      <th>16973</th>\n",
       "      <td>Non-Fatal</td>\n",
       "      <td>NaN</td>\n",
       "    </tr>\n",
       "    <tr>\n",
       "      <th>20014</th>\n",
       "      <td>Non-Fatal</td>\n",
       "      <td>NaN</td>\n",
       "    </tr>\n",
       "    <tr>\n",
       "      <th>22096</th>\n",
       "      <td>Non-Fatal</td>\n",
       "      <td>NaN</td>\n",
       "    </tr>\n",
       "    <tr>\n",
       "      <th>25277</th>\n",
       "      <td>Non-Fatal</td>\n",
       "      <td>NaN</td>\n",
       "    </tr>\n",
       "    <tr>\n",
       "      <th>26410</th>\n",
       "      <td>Incident</td>\n",
       "      <td>NaN</td>\n",
       "    </tr>\n",
       "    <tr>\n",
       "      <th>28159</th>\n",
       "      <td>Incident</td>\n",
       "      <td>NaN</td>\n",
       "    </tr>\n",
       "    <tr>\n",
       "      <th>28903</th>\n",
       "      <td>Incident</td>\n",
       "      <td>NaN</td>\n",
       "    </tr>\n",
       "    <tr>\n",
       "      <th>30741</th>\n",
       "      <td>Incident</td>\n",
       "      <td>NaN</td>\n",
       "    </tr>\n",
       "    <tr>\n",
       "      <th>31016</th>\n",
       "      <td>Non-Fatal</td>\n",
       "      <td>NaN</td>\n",
       "    </tr>\n",
       "    <tr>\n",
       "      <th>37280</th>\n",
       "      <td>Incident</td>\n",
       "      <td>NaN</td>\n",
       "    </tr>\n",
       "    <tr>\n",
       "      <th>37281</th>\n",
       "      <td>Incident</td>\n",
       "      <td>NaN</td>\n",
       "    </tr>\n",
       "    <tr>\n",
       "      <th>39039</th>\n",
       "      <td>Non-Fatal</td>\n",
       "      <td>NaN</td>\n",
       "    </tr>\n",
       "    <tr>\n",
       "      <th>40464</th>\n",
       "      <td>Non-Fatal</td>\n",
       "      <td>NaN</td>\n",
       "    </tr>\n",
       "    <tr>\n",
       "      <th>41704</th>\n",
       "      <td>Non-Fatal</td>\n",
       "      <td>NaN</td>\n",
       "    </tr>\n",
       "    <tr>\n",
       "      <th>42219</th>\n",
       "      <td>Incident</td>\n",
       "      <td>NaN</td>\n",
       "    </tr>\n",
       "    <tr>\n",
       "      <th>43387</th>\n",
       "      <td>Non-Fatal</td>\n",
       "      <td>NaN</td>\n",
       "    </tr>\n",
       "    <tr>\n",
       "      <th>43489</th>\n",
       "      <td>Non-Fatal</td>\n",
       "      <td>NaN</td>\n",
       "    </tr>\n",
       "    <tr>\n",
       "      <th>44160</th>\n",
       "      <td>Non-Fatal</td>\n",
       "      <td>NaN</td>\n",
       "    </tr>\n",
       "    <tr>\n",
       "      <th>44772</th>\n",
       "      <td>Non-Fatal</td>\n",
       "      <td>NaN</td>\n",
       "    </tr>\n",
       "    <tr>\n",
       "      <th>44795</th>\n",
       "      <td>Non-Fatal</td>\n",
       "      <td>NaN</td>\n",
       "    </tr>\n",
       "    <tr>\n",
       "      <th>45506</th>\n",
       "      <td>Non-Fatal</td>\n",
       "      <td>NaN</td>\n",
       "    </tr>\n",
       "    <tr>\n",
       "      <th>45672</th>\n",
       "      <td>Non-Fatal</td>\n",
       "      <td>NaN</td>\n",
       "    </tr>\n",
       "    <tr>\n",
       "      <th>46284</th>\n",
       "      <td>Non-Fatal</td>\n",
       "      <td>NaN</td>\n",
       "    </tr>\n",
       "    <tr>\n",
       "      <th>46293</th>\n",
       "      <td>Non-Fatal</td>\n",
       "      <td>NaN</td>\n",
       "    </tr>\n",
       "    <tr>\n",
       "      <th>47432</th>\n",
       "      <td>Non-Fatal</td>\n",
       "      <td>NaN</td>\n",
       "    </tr>\n",
       "    <tr>\n",
       "      <th>47942</th>\n",
       "      <td>Non-Fatal</td>\n",
       "      <td>NaN</td>\n",
       "    </tr>\n",
       "    <tr>\n",
       "      <th>48295</th>\n",
       "      <td>Non-Fatal</td>\n",
       "      <td>NaN</td>\n",
       "    </tr>\n",
       "  </tbody>\n",
       "</table>\n",
       "</div>"
      ],
      "text/plain": [
       "      Injury.Severity  Total.Fatal.Injuries\n",
       "5           Non-Fatal                   NaN\n",
       "89          Non-Fatal                   NaN\n",
       "351          Incident                   NaN\n",
       "761         Non-Fatal                   NaN\n",
       "1164         Incident                   NaN\n",
       "1834         Incident                   NaN\n",
       "3515        Non-Fatal                   NaN\n",
       "3645        Non-Fatal                   NaN\n",
       "4149         Incident                   NaN\n",
       "4150         Incident                   NaN\n",
       "5957         Incident                   NaN\n",
       "6760         Incident                   NaN\n",
       "7708        Non-Fatal                   NaN\n",
       "8025        Non-Fatal                   NaN\n",
       "8591        Non-Fatal                   NaN\n",
       "9386         Incident                   NaN\n",
       "10794        Incident                   NaN\n",
       "11638       Non-Fatal                   NaN\n",
       "11689       Non-Fatal                   NaN\n",
       "12683        Incident                   NaN\n",
       "14806        Incident                   NaN\n",
       "15579        Incident                   NaN\n",
       "16080       Non-Fatal                   NaN\n",
       "16973       Non-Fatal                   NaN\n",
       "20014       Non-Fatal                   NaN\n",
       "22096       Non-Fatal                   NaN\n",
       "25277       Non-Fatal                   NaN\n",
       "26410        Incident                   NaN\n",
       "28159        Incident                   NaN\n",
       "28903        Incident                   NaN\n",
       "30741        Incident                   NaN\n",
       "31016       Non-Fatal                   NaN\n",
       "37280        Incident                   NaN\n",
       "37281        Incident                   NaN\n",
       "39039       Non-Fatal                   NaN\n",
       "40464       Non-Fatal                   NaN\n",
       "41704       Non-Fatal                   NaN\n",
       "42219        Incident                   NaN\n",
       "43387       Non-Fatal                   NaN\n",
       "43489       Non-Fatal                   NaN\n",
       "44160       Non-Fatal                   NaN\n",
       "44772       Non-Fatal                   NaN\n",
       "44795       Non-Fatal                   NaN\n",
       "45506       Non-Fatal                   NaN\n",
       "45672       Non-Fatal                   NaN\n",
       "46284       Non-Fatal                   NaN\n",
       "46293       Non-Fatal                   NaN\n",
       "47432       Non-Fatal                   NaN\n",
       "47942       Non-Fatal                   NaN\n",
       "48295       Non-Fatal                   NaN"
      ]
     },
     "execution_count": 36,
     "metadata": {},
     "output_type": "execute_result"
    }
   ],
   "source": [
    "df[['Injury.Severity', 'Total.Fatal.Injuries']][df['Total.Fatal.Injuries'].isna()].head(50)"
   ]
  },
  {
   "cell_type": "markdown",
   "metadata": {},
   "source": [
    "Looks like null values are actually zeroes. We feel confident about replacing those."
   ]
  },
  {
   "cell_type": "code",
   "execution_count": 37,
   "metadata": {},
   "outputs": [],
   "source": [
    "df['Total.Fatal.Injuries'].fillna(0, inplace=True)\n",
    "df['Total.Serious.Injuries'].fillna(0, inplace=True)\n",
    "df['Total.Minor.Injuries'].fillna(0, inplace=True)\n",
    "df['Total.Uninjured'].fillna(0, inplace=True)"
   ]
  },
  {
   "cell_type": "markdown",
   "metadata": {},
   "source": [
    "Now we can create a Total Passengers column. Let's also make a column for % Seriously Injured or Killed, and % Uninjured. We will use these to analyze accident severity by manufacturer."
   ]
  },
  {
   "cell_type": "code",
   "execution_count": 38,
   "metadata": {},
   "outputs": [],
   "source": [
    "df['Total.Passengers'] = (df['Total.Fatal.Injuries'] + df['Total.Serious.Injuries'] \n",
    "                          + df['Total.Minor.Injuries'] + df['Total.Uninjured'])\n",
    "\n",
    "df['Percentage.Seriously.Injured.or.Killed'] = ((df['Total.Fatal.Injuries'] + \n",
    "                                                 df['Total.Serious.Injuries']) / (df['Total.Passengers'])) * 100\n",
    "\n",
    "df['Percentage.Uninjured'] = (df['Total.Uninjured']) / (df['Total.Passengers']) * 100"
   ]
  },
  {
   "cell_type": "markdown",
   "metadata": {},
   "source": [
    "Time to filter out small planes."
   ]
  },
  {
   "cell_type": "code",
   "execution_count": 39,
   "metadata": {},
   "outputs": [],
   "source": [
    "df = df[df['Total.Passengers'] >= 10]"
   ]
  },
  {
   "cell_type": "markdown",
   "metadata": {},
   "source": [
    "Let's look at what we've got now."
   ]
  },
  {
   "cell_type": "code",
   "execution_count": 40,
   "metadata": {},
   "outputs": [
    {
     "data": {
      "text/plain": [
       "Boeing               938\n",
       "Mcdonnell Douglas    291\n",
       "Airbus               177\n",
       "Beech                111\n",
       "Embraer              110\n",
       "Bombardier            96\n",
       "Douglas               85\n",
       "Lockheed              38\n",
       "Cessna                32\n",
       "Gulfstream            10\n",
       "Learjet                9\n",
       "Convair                8\n",
       "Hawker                 3\n",
       "Raytheon               3\n",
       "Dassault               3\n",
       "Name: Manufacturer, dtype: int64"
      ]
     },
     "execution_count": 40,
     "metadata": {},
     "output_type": "execute_result"
    }
   ],
   "source": [
    "df['Manufacturer'].value_counts()"
   ]
  },
  {
   "cell_type": "markdown",
   "metadata": {},
   "source": [
    "We need a minimum number of observations to make a useful statisical observation. 100 seems like a good cutoff, and the conveniently leaves us with 5 manufacturers. Let's keep only these. "
   ]
  },
  {
   "cell_type": "code",
   "execution_count": 41,
   "metadata": {},
   "outputs": [],
   "source": [
    "top_5_list = df['Manufacturer'].value_counts().head().index.tolist()"
   ]
  },
  {
   "cell_type": "code",
   "execution_count": 42,
   "metadata": {},
   "outputs": [],
   "source": [
    "df = df[df['Manufacturer'].isin(top_5_list)]"
   ]
  },
  {
   "cell_type": "markdown",
   "metadata": {},
   "source": [
    "####  Create New CSV File of Cleaned Data"
   ]
  },
  {
   "cell_type": "code",
   "execution_count": 43,
   "metadata": {},
   "outputs": [],
   "source": [
    "df.to_csv('../data/Aviation_Data_Cleaned_v2.csv')"
   ]
  },
  {
   "cell_type": "markdown",
   "metadata": {},
   "source": [
    "### Now let's start doing some analysis!"
   ]
  },
  {
   "cell_type": "markdown",
   "metadata": {},
   "source": [
    "First, let's load and open the cleaned CSV file and use it moving forward. We'll call it aviation_cleaned. "
   ]
  },
  {
   "cell_type": "code",
   "execution_count": 44,
   "metadata": {},
   "outputs": [],
   "source": [
    "with open('../data/Aviation_Data_Cleaned_v2.csv', encoding='utf8') as f:\n",
    "    dtypes = {'Column6Name': 'str', 'Column7Name': 'str', 'Column28Name': 'str'}\n",
    "    aviation_cleaned = pd.read_csv(f, dtype=dtypes, low_memory=False)"
   ]
  },
  {
   "cell_type": "markdown",
   "metadata": {},
   "source": [
    "Let's look at the distribution of each manufacturer in the market given the data we have. "
   ]
  },
  {
   "cell_type": "code",
   "execution_count": 45,
   "metadata": {},
   "outputs": [
    {
     "data": {
      "image/png": "[encoded data removed]",
      "text/plain": [
       "<Figure size 576x576 with 1 Axes>"
      ]
     },
     "metadata": {
      "needs_background": "light"
     },
     "output_type": "display_data"
    }
   ],
   "source": [
    "(aviation_cleaned['Manufacturer'].value_counts(normalize=True) * 100).plot(kind='bar', figsize=(8,8),\n",
    "                            title='Manufacturers Distribution in the Market', ylabel= \"Percent Distribution\", rot=80);"
   ]
  },
  {
   "cell_type": "markdown",
   "metadata": {},
   "source": [
    "Great! As expected with the data, Boeing makes up about 58% of the data. Let's look at total number of passengers per manufacturer and see if it lines up. "
   ]
  },
  {
   "cell_type": "code",
   "execution_count": 46,
   "metadata": {},
   "outputs": [
    {
     "data": {
      "image/png": "[encoded data removed]",
      "text/plain": [
       "<Figure size 720x576 with 1 Axes>"
      ]
     },
     "metadata": {
      "needs_background": "light"
     },
     "output_type": "display_data"
    }
   ],
   "source": [
    "x=aviation_cleaned.groupby('Manufacturer')['Total.Passengers'].sum().sort_values().plot(kind='bar', figsize=(10,8), rot=70)\n",
    "\n",
    "plt.xlabel('Manufacturer')\n",
    "plt.ylabel('Total Passengers')\n",
    "plt.title('Total Passengers per Manufacturer')\n",
    "plt.show()"
   ]
  },
  {
   "cell_type": "markdown",
   "metadata": {},
   "source": [
    "Yes, Boeing has the most number of passengers. This lines up. Let's look at the different injury levels per manufacturer. "
   ]
  },
  {
   "cell_type": "code",
   "execution_count": 47,
   "metadata": {},
   "outputs": [
    {
     "data": {
      "image/png": "[encoded data removed]",
      "text/plain": [
       "<Figure size 576x576 with 1 Axes>"
      ]
     },
     "metadata": {
      "needs_background": "light"
     },
     "output_type": "display_data"
    }
   ],
   "source": [
    "aviation_cleaned.groupby('Manufacturer')[['Total.Fatal.Injuries', \n",
    "                                          'Total.Serious.Injuries', \n",
    "                                          'Total.Minor.Injuries']].sum().sort_values(by='Total.Fatal.Injuries', \n",
    "                                                                                     ascending=False).plot(kind='bar', \n",
    "                                                                                                           figsize=(8,8), \n",
    "                                                                                                           title='Different Injury Level per Manufacturer', \n",
    "                                                                                                           ylabel='Total Injuries', \n",
    "                                                                                                           rot=70);\n"
   ]
  },
  {
   "cell_type": "markdown",
   "metadata": {},
   "source": [
    "Here, I notice that Beech, Airbus, and Embrear tend to have more fatal injuries than serious or mild. Boeing and Mcdonnell Douglas seem to have more minor injuries than fatalities. "
   ]
  },
  {
   "cell_type": "markdown",
   "metadata": {},
   "source": [
    "Let's look at percentage of fatal/serious injuries per accident"
   ]
  },
  {
   "cell_type": "code",
   "execution_count": 48,
   "metadata": {},
   "outputs": [],
   "source": [
    "manufacturer_injury_level = aviation_cleaned[['Total.Passengers','Total.Fatal.Injuries', 'Total.Serious.Injuries', 'Manufacturer']].groupby('Manufacturer').sum()"
   ]
  },
  {
   "cell_type": "code",
   "execution_count": 49,
   "metadata": {},
   "outputs": [],
   "source": [
    "manufacturer_injury_level['Fatal and Serious Percentage'] = ((manufacturer_injury_level['Total.Fatal.Injuries'] \n",
    "                                                             + manufacturer_injury_level['Total.Serious.Injuries']) \n",
    "                                                             / manufacturer_injury_level['Total.Passengers']) * 100"
   ]
  },
  {
   "cell_type": "code",
   "execution_count": 50,
   "metadata": {},
   "outputs": [
    {
     "data": {
      "text/html": [
       "<div>\n",
       "<style scoped>\n",
       "    .dataframe tbody tr th:only-of-type {\n",
       "        vertical-align: middle;\n",
       "    }\n",
       "\n",
       "    .dataframe tbody tr th {\n",
       "        vertical-align: top;\n",
       "    }\n",
       "\n",
       "    .dataframe thead th {\n",
       "        text-align: right;\n",
       "    }\n",
       "</style>\n",
       "<table border=\"1\" class=\"dataframe\">\n",
       "  <thead>\n",
       "    <tr style=\"text-align: right;\">\n",
       "      <th></th>\n",
       "      <th>Total.Passengers</th>\n",
       "      <th>Total.Fatal.Injuries</th>\n",
       "      <th>Total.Serious.Injuries</th>\n",
       "      <th>Fatal and Serious Percentage</th>\n",
       "    </tr>\n",
       "    <tr>\n",
       "      <th>Manufacturer</th>\n",
       "      <th></th>\n",
       "      <th></th>\n",
       "      <th></th>\n",
       "      <th></th>\n",
       "    </tr>\n",
       "  </thead>\n",
       "  <tbody>\n",
       "    <tr>\n",
       "      <th>Airbus</th>\n",
       "      <td>28521.0</td>\n",
       "      <td>266.0</td>\n",
       "      <td>117.0</td>\n",
       "      <td>1.342870</td>\n",
       "    </tr>\n",
       "    <tr>\n",
       "      <th>Beech</th>\n",
       "      <td>1909.0</td>\n",
       "      <td>243.0</td>\n",
       "      <td>35.0</td>\n",
       "      <td>14.562598</td>\n",
       "    </tr>\n",
       "    <tr>\n",
       "      <th>Boeing</th>\n",
       "      <td>135788.0</td>\n",
       "      <td>1275.0</td>\n",
       "      <td>1018.0</td>\n",
       "      <td>1.688662</td>\n",
       "    </tr>\n",
       "    <tr>\n",
       "      <th>Embraer</th>\n",
       "      <td>5676.0</td>\n",
       "      <td>87.0</td>\n",
       "      <td>49.0</td>\n",
       "      <td>2.396054</td>\n",
       "    </tr>\n",
       "    <tr>\n",
       "      <th>Mcdonnell Douglas</th>\n",
       "      <td>39662.0</td>\n",
       "      <td>408.0</td>\n",
       "      <td>282.0</td>\n",
       "      <td>1.739700</td>\n",
       "    </tr>\n",
       "  </tbody>\n",
       "</table>\n",
       "</div>"
      ],
      "text/plain": [
       "                   Total.Passengers  Total.Fatal.Injuries  \\\n",
       "Manufacturer                                                \n",
       "Airbus                      28521.0                 266.0   \n",
       "Beech                        1909.0                 243.0   \n",
       "Boeing                     135788.0                1275.0   \n",
       "Embraer                      5676.0                  87.0   \n",
       "Mcdonnell Douglas           39662.0                 408.0   \n",
       "\n",
       "                   Total.Serious.Injuries  Fatal and Serious Percentage  \n",
       "Manufacturer                                                             \n",
       "Airbus                              117.0                      1.342870  \n",
       "Beech                                35.0                     14.562598  \n",
       "Boeing                             1018.0                      1.688662  \n",
       "Embraer                              49.0                      2.396054  \n",
       "Mcdonnell Douglas                   282.0                      1.739700  "
      ]
     },
     "execution_count": 50,
     "metadata": {},
     "output_type": "execute_result"
    }
   ],
   "source": [
    "manufacturer_injury_level.head()"
   ]
  },
  {
   "cell_type": "markdown",
   "metadata": {},
   "source": [
    "Here, we see that per accident, Beech has the highest percentage of fatalities or serious injuries at 14% (inversely, it has the smallest percentage of minor or no injuries at 85%). \n",
    "\n",
    "#### Let's visualize it: "
   ]
  },
  {
   "cell_type": "code",
   "execution_count": 51,
   "metadata": {},
   "outputs": [
    {
     "data": {
      "image/png": "[encoded data removed]",
      "text/plain": [
       "<Figure size 720x576 with 1 Axes>"
      ]
     },
     "metadata": {
      "needs_background": "light"
     },
     "output_type": "display_data"
    }
   ],
   "source": [
    "manufacturer_injury_level['Fatal and Serious Percentage'].plot(kind='bar', xlabel='Manufacturer', \n",
    "                                                               ylabel='Percent Seriously or Fatally Injured', \n",
    "                                                               title='Percent of Passengers Seriously or Fatally Injured per Accident',\n",
    "                                                               figsize=(10,8), \n",
    "                                                              rot=70);"
   ]
  },
  {
   "cell_type": "code",
   "execution_count": 52,
   "metadata": {},
   "outputs": [],
   "source": [
    "# ratio between seriously injured vs fatally injured\n",
    "# sns barplot it will give you the error bars\n",
    "#^compute fraction injured per accident (serious vs fatal, etc.), then instead of groupby agg, SNS barplot will plot as a fucntion of manufacturer\n",
    "# x is manu, y is fraction injured per accident\n",
    "# will do group by aggregation for you computes mean by default\n",
    "# auto computes the 95% confidence level in estimateion of the mean\n",
    "# see if the difference in a percent or so is meaningful\n",
    "# then next plot, zoom in (just look at a few on a scale that is appropriate)"
   ]
  },
  {
   "cell_type": "markdown",
   "metadata": {},
   "source": [
    "We can see here that flying on a Beech plane gives you the highest chance of sustaining a serious or fatal injury. Let's look at the inverse below. "
   ]
  },
  {
   "cell_type": "code",
   "execution_count": 53,
   "metadata": {},
   "outputs": [],
   "source": [
    "manufacturer_injury_level['Minor or Uninjured Percentage'] = 100 - manufacturer_injury_level['Fatal and Serious Percentage']"
   ]
  },
  {
   "cell_type": "code",
   "execution_count": 54,
   "metadata": {},
   "outputs": [
    {
     "data": {
      "image/png": "[encoded data removed]",
      "text/plain": [
       "<Figure size 720x576 with 1 Axes>"
      ]
     },
     "metadata": {
      "needs_background": "light"
     },
     "output_type": "display_data"
    }
   ],
   "source": [
    "manufacturer_injury_level['Minor or Uninjured Percentage'].plot(kind='bar', xlabel='Manufacturer', \n",
    "                                                               ylabel='Percentage Relatively Unharmed', \n",
    "                                                               title='Percent of Passengers with Minor or No Injuries per Accident',\n",
    "                                                               figsize=(10,8), \n",
    "                                                              rot=70);"
   ]
  },
  {
   "cell_type": "markdown",
   "metadata": {},
   "source": [
    "Let's see if we can come up with an explanation as to why Beech has more severe injuries. Let's start with investigating the number of engines and engine type."
   ]
  },
  {
   "cell_type": "code",
   "execution_count": 55,
   "metadata": {},
   "outputs": [
    {
     "data": {
      "image/png": "[encoded data removed]",
      "text/plain": [
       "<Figure size 576x576 with 1 Axes>"
      ]
     },
     "metadata": {
      "needs_background": "light"
     },
     "output_type": "display_data"
    }
   ],
   "source": [
    "(aviation_cleaned['Number.of.Engines'].value_counts(normalize=True) * 100).plot(kind='bar', figsize=(8,8),\n",
    "                            title='Distribution of Number of Engines', ylabel= \"Percent of Distribution\");"
   ]
  },
  {
   "cell_type": "markdown",
   "metadata": {},
   "source": [
    "The market is made up mainly of 2 engine planes. Let's see what kind of engines they are."
   ]
  },
  {
   "cell_type": "code",
   "execution_count": 56,
   "metadata": {},
   "outputs": [
    {
     "data": {
      "image/png": "[encoded data removed]",
      "text/plain": [
       "<Figure size 432x288 with 1 Axes>"
      ]
     },
     "metadata": {
      "needs_background": "light"
     },
     "output_type": "display_data"
    }
   ],
   "source": [
    "(aviation_cleaned['Engine.Type'].value_counts(normalize=True)*100).plot(kind=\"bar\", \n",
    "                                                                        title=('Percentage of Different Engine Types'), \n",
    "                                                                        rot=70, xlabel=('Engine Type'), \n",
    "                                                                        ylabel='Percentage of Market');"
   ]
  }
 ],
 "metadata": {
  "kernelspec": {
   "display_name": "Python (learn-env)",
   "language": "python",
   "name": "learn-env"
  },
  "language_info": {
   "codemirror_mode": {
    "name": "ipython",
    "version": 3
   },
   "file_extension": ".py",
   "mimetype": "text/x-python",
   "name": "python",
   "nbconvert_exporter": "python",
   "pygments_lexer": "ipython3",
   "version": "3.8.5"
  }
 },
 "nbformat": 4,
 "nbformat_minor": 4
}
